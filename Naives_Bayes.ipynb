{
  "nbformat": 4,
  "nbformat_minor": 0,
  "metadata": {
    "colab": {
      "provenance": [],
      "authorship_tag": "ABX9TyOHD+7BL+U33wdk/nPTJxwx",
      "include_colab_link": true
    },
    "kernelspec": {
      "name": "python3",
      "display_name": "Python 3"
    },
    "language_info": {
      "name": "python"
    }
  },
  "cells": [
    {
      "cell_type": "markdown",
      "metadata": {
        "id": "view-in-github",
        "colab_type": "text"
      },
      "source": [
        "<a href=\"https://colab.research.google.com/github/rafflds/Censo/blob/main/Naives_Bayes.ipynb\" target=\"_parent\"><img src=\"https://colab.research.google.com/assets/colab-badge.svg\" alt=\"Open In Colab\"/></a>"
      ]
    },
    {
      "cell_type": "markdown",
      "source": [
        "\n",
        "\n",
        "---\n",
        "\n",
        "\n",
        "<font size=25, color=blue>Machine Learning\n",
        "\n",
        "\n",
        "---\n",
        "\n"
      ],
      "metadata": {
        "id": "vz_PTZqrG6PR"
      }
    },
    {
      "cell_type": "markdown",
      "source": [
        "## Imports bibliotecas"
      ],
      "metadata": {
        "id": "GTz6c595HpRn"
      }
    },
    {
      "cell_type": "code",
      "source": [
        "import pandas as pd\n",
        "import pickle\n",
        "\n",
        "# naive bayes\n",
        "from sklearn.naive_bayes import GaussianNB"
      ],
      "metadata": {
        "id": "1g_VrRcqG8XR"
      },
      "execution_count": 1,
      "outputs": []
    },
    {
      "cell_type": "markdown",
      "source": [
        "## Leitura de arquivo"
      ],
      "metadata": {
        "id": "YF6OE643HtOW"
      }
    },
    {
      "cell_type": "code",
      "execution_count": 2,
      "metadata": {
        "id": "1l4UhZ8wGMcv"
      },
      "outputs": [],
      "source": [
        "with open('censo.pkl', 'rb') as f:\n",
        "  x_train, x_test, y_train, y_test = pickle.load(f)"
      ]
    },
    {
      "cell_type": "code",
      "source": [
        "# Tamanho do arquivo treinado\n",
        "x_train.shape, y_train.shape"
      ],
      "metadata": {
        "colab": {
          "base_uri": "https://localhost:8080/"
        },
        "id": "oXRNcrzBHKju",
        "outputId": "c8d34346-9914-43e2-91a6-244a8d750039"
      },
      "execution_count": 3,
      "outputs": [
        {
          "output_type": "execute_result",
          "data": {
            "text/plain": [
              "((24420, 14), (24420,))"
            ]
          },
          "metadata": {},
          "execution_count": 3
        }
      ]
    },
    {
      "cell_type": "markdown",
      "source": [
        "## Machine Learning"
      ],
      "metadata": {
        "id": "XXW1ZgMoH1Bv"
      }
    },
    {
      "cell_type": "code",
      "source": [
        "# Treinamento com modelo\n",
        "naive_bayes = GaussianNB()\n",
        "naive_bayes.fit(x_train, y_train)\n",
        "# Previsão realizado com modelo\n",
        "previsoes = naive_bayes.predict(x_test)\n",
        "previsoes"
      ],
      "metadata": {
        "colab": {
          "base_uri": "https://localhost:8080/"
        },
        "id": "Rgzvveh4HSi2",
        "outputId": "11e542cf-9dcc-4b63-8846-0c01c9d8b936"
      },
      "execution_count": 6,
      "outputs": [
        {
          "output_type": "execute_result",
          "data": {
            "text/plain": [
              "array([' <=50K', ' <=50K', ' <=50K', ..., ' <=50K', ' <=50K', ' <=50K'],\n",
              "      dtype='<U6')"
            ]
          },
          "metadata": {},
          "execution_count": 6
        }
      ]
    },
    {
      "cell_type": "code",
      "source": [],
      "metadata": {
        "id": "opoX4-iRHfJG"
      },
      "execution_count": null,
      "outputs": []
    }
  ]
}