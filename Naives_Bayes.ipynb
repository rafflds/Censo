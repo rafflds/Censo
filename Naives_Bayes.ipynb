{
  "nbformat": 4,
  "nbformat_minor": 0,
  "metadata": {
    "colab": {
      "provenance": [],
      "authorship_tag": "ABX9TyPiwsxDeMMUskpXrplYFI7Y",
      "include_colab_link": true
    },
    "kernelspec": {
      "name": "python3",
      "display_name": "Python 3"
    },
    "language_info": {
      "name": "python"
    }
  },
  "cells": [
    {
      "cell_type": "markdown",
      "metadata": {
        "id": "view-in-github",
        "colab_type": "text"
      },
      "source": [
        "<a href=\"https://colab.research.google.com/github/rafflds/Censo/blob/main/Naives_Bayes.ipynb\" target=\"_parent\"><img src=\"https://colab.research.google.com/assets/colab-badge.svg\" alt=\"Open In Colab\"/></a>"
      ]
    },
    {
      "cell_type": "markdown",
      "source": [
        "\n",
        "\n",
        "---\n",
        "\n",
        "\n",
        "<font size=25, color=blue>Machine Learning\n",
        "\n",
        "\n",
        "---\n",
        "\n"
      ],
      "metadata": {
        "id": "vz_PTZqrG6PR"
      }
    },
    {
      "cell_type": "markdown",
      "source": [
        "## Imports bibliotecas"
      ],
      "metadata": {
        "id": "GTz6c595HpRn"
      }
    },
    {
      "cell_type": "code",
      "source": [
        "import pandas as pd\n",
        "import pickle\n",
        "\n",
        "# naive bayes\n",
        "from sklearn.naive_bayes import GaussianNB\n",
        "from sklearn.metrics import accuracy_score\n",
        "\n",
        "# Matrix confusao\n",
        "from yellowbrick.classifier import ConfusionMatrix\n",
        "\n",
        "# Classificação\n",
        "from sklearn.metrics import classification_report"
      ],
      "metadata": {
        "id": "1g_VrRcqG8XR"
      },
      "execution_count": 17,
      "outputs": []
    },
    {
      "cell_type": "markdown",
      "source": [
        "## Leitura de arquivo"
      ],
      "metadata": {
        "id": "YF6OE643HtOW"
      }
    },
    {
      "cell_type": "code",
      "execution_count": 2,
      "metadata": {
        "id": "1l4UhZ8wGMcv"
      },
      "outputs": [],
      "source": [
        "with open('censo.pkl', 'rb') as f:\n",
        "  x_train, x_test, y_train, y_test = pickle.load(f)"
      ]
    },
    {
      "cell_type": "code",
      "source": [
        "# Tamanho do arquivo treinado\n",
        "x_train.shape, y_train.shape"
      ],
      "metadata": {
        "colab": {
          "base_uri": "https://localhost:8080/"
        },
        "id": "oXRNcrzBHKju",
        "outputId": "c8d34346-9914-43e2-91a6-244a8d750039"
      },
      "execution_count": 3,
      "outputs": [
        {
          "output_type": "execute_result",
          "data": {
            "text/plain": [
              "((24420, 14), (24420,))"
            ]
          },
          "metadata": {},
          "execution_count": 3
        }
      ]
    },
    {
      "cell_type": "markdown",
      "source": [
        "## Machine Learning"
      ],
      "metadata": {
        "id": "XXW1ZgMoH1Bv"
      }
    },
    {
      "cell_type": "code",
      "source": [
        "# Treinamento com modelo\n",
        "naive_bayes = GaussianNB()\n",
        "naive_bayes.fit(x_train, y_train)\n",
        "# Previsão realizado com modelo\n",
        "previsoes = naive_bayes.predict(x_test)\n",
        "previsoes"
      ],
      "metadata": {
        "colab": {
          "base_uri": "https://localhost:8080/"
        },
        "id": "Rgzvveh4HSi2",
        "outputId": "11e542cf-9dcc-4b63-8846-0c01c9d8b936"
      },
      "execution_count": 6,
      "outputs": [
        {
          "output_type": "execute_result",
          "data": {
            "text/plain": [
              "array([' <=50K', ' <=50K', ' <=50K', ..., ' <=50K', ' <=50K', ' <=50K'],\n",
              "      dtype='<U6')"
            ]
          },
          "metadata": {},
          "execution_count": 6
        }
      ]
    },
    {
      "cell_type": "code",
      "source": [
        "# Acurácia do modelo\n",
        "accuracy_score(y_test, previsoes)"
      ],
      "metadata": {
        "colab": {
          "base_uri": "https://localhost:8080/"
        },
        "id": "opoX4-iRHfJG",
        "outputId": "409ebc23-b734-4c32-a0e9-08460503e54c"
      },
      "execution_count": 9,
      "outputs": [
        {
          "output_type": "execute_result",
          "data": {
            "text/plain": [
              "0.8045694632109077"
            ]
          },
          "metadata": {},
          "execution_count": 9
        }
      ]
    },
    {
      "cell_type": "markdown",
      "source": [
        "## Matrix de Confusão"
      ],
      "metadata": {
        "id": "PwlfpjiGP-Qs"
      }
    },
    {
      "cell_type": "code",
      "source": [
        "cm = ConfusionMatrix(naive_bayes)\n",
        "cm.fit(x_train, y_train)\n",
        "cm.score(x_test, y_test)"
      ],
      "metadata": {
        "colab": {
          "base_uri": "https://localhost:8080/",
          "height": 540
        },
        "id": "qEwu-zz1PrX0",
        "outputId": "45b755d3-431c-4ef7-c10d-34808d530048"
      },
      "execution_count": 14,
      "outputs": [
        {
          "output_type": "execute_result",
          "data": {
            "text/plain": [
              "0.8045694632109077"
            ]
          },
          "metadata": {},
          "execution_count": 14
        },
        {
          "output_type": "display_data",
          "data": {
            "text/plain": [
              "<Figure size 800x550 with 1 Axes>"
            ],
            "image/png": "[encoded data removed]"
          },
          "metadata": {}
        }
      ]
    },
    {
      "cell_type": "markdown",
      "source": [
        "## Precisão do modelo"
      ],
      "metadata": {
        "id": "xcrIMDkqRqK7"
      }
    },
    {
      "cell_type": "code",
      "source": [
        "print(classification_report(y_test, previsoes))"
      ],
      "metadata": {
        "colab": {
          "base_uri": "https://localhost:8080/"
        },
        "id": "-RzCs320QErL",
        "outputId": "a8e2a80b-b03a-4694-ff55-fc81d4fc0de2"
      },
      "execution_count": 18,
      "outputs": [
        {
          "output_type": "stream",
          "name": "stdout",
          "text": [
            "              precision    recall  f1-score   support\n",
            "\n",
            "       <=50K       0.82      0.95      0.88      6159\n",
            "        >50K       0.70      0.35      0.46      1982\n",
            "\n",
            "    accuracy                           0.80      8141\n",
            "   macro avg       0.76      0.65      0.67      8141\n",
            "weighted avg       0.79      0.80      0.78      8141\n",
            "\n"
          ]
        }
      ]
    }
  ]
}